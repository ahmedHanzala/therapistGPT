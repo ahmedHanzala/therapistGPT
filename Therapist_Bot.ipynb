{
  "nbformat": 4,
  "nbformat_minor": 0,
  "metadata": {
    "colab": {
      "provenance": [],
      "authorship_tag": "ABX9TyPOeYpLvCqH7QzhxwvNMtMJ",
      "include_colab_link": true
    },
    "kernelspec": {
      "name": "python3",
      "display_name": "Python 3"
    },
    "language_info": {
      "name": "python"
    }
  },
  "cells": [
    {
      "cell_type": "markdown",
      "metadata": {
        "id": "view-in-github",
        "colab_type": "text"
      },
      "source": [
        "<a href=\"https://colab.research.google.com/github/ahmedHanzala/therapistGPT/blob/main/Therapist_Bot.ipynb\" target=\"_parent\"><img src=\"https://colab.research.google.com/assets/colab-badge.svg\" alt=\"Open In Colab\"/></a>"
      ]
    },
    {
      "cell_type": "code",
      "execution_count": null,
      "metadata": {
        "colab": {
          "base_uri": "https://localhost:8080/"
        },
        "id": "AC8k9HXhxdYW",
        "outputId": "4a568d8e-94e8-44a5-832c-a962a4e1cafd"
      },
      "outputs": [
        {
          "output_type": "stream",
          "name": "stdout",
          "text": [
            "Mounted at /content/drive\n"
          ]
        }
      ],
      "source": [
        "from google.colab import drive\n",
        "drive.mount('/content/drive')"
      ]
    },
    {
      "cell_type": "markdown",
      "source": [
        "<h2>Upload PDF for book</h2>"
      ],
      "metadata": {
        "id": "mf3W1j515jg4"
      }
    },
    {
      "cell_type": "code",
      "source": [
        "from google.colab import files\n",
        "uploaded = files.upload()\n",
        "\n",
        "for filename in uploaded.keys():\n",
        "    print(f'Uploaded file: {filename}')"
      ],
      "metadata": {
        "colab": {
          "base_uri": "https://localhost:8080/",
          "height": 91
        },
        "id": "WYdkFQ2U42me",
        "outputId": "f5ee6d2b-975e-43e3-9434-07d3e57f00d6"
      },
      "execution_count": null,
      "outputs": [
        {
          "output_type": "display_data",
          "data": {
            "text/plain": [
              "<IPython.core.display.HTML object>"
            ],
            "text/html": [
              "\n",
              "     <input type=\"file\" id=\"files-d25a38a9-69e9-4eff-a8d5-38da9e6892f1\" name=\"files[]\" multiple disabled\n",
              "        style=\"border:none\" />\n",
              "     <output id=\"result-d25a38a9-69e9-4eff-a8d5-38da9e6892f1\">\n",
              "      Upload widget is only available when the cell has been executed in the\n",
              "      current browser session. Please rerun this cell to enable.\n",
              "      </output>\n",
              "      <script>// Copyright 2017 Google LLC\n",
              "//\n",
              "// Licensed under the Apache License, Version 2.0 (the \"License\");\n",
              "// you may not use this file except in compliance with the License.\n",
              "// You may obtain a copy of the License at\n",
              "//\n",
              "//      http://www.apache.org/licenses/LICENSE-2.0\n",
              "//\n",
              "// Unless required by applicable law or agreed to in writing, software\n",
              "// distributed under the License is distributed on an \"AS IS\" BASIS,\n",
              "// WITHOUT WARRANTIES OR CONDITIONS OF ANY KIND, either express or implied.\n",
              "// See the License for the specific language governing permissions and\n",
              "// limitations under the License.\n",
              "\n",
              "/**\n",
              " * @fileoverview Helpers for google.colab Python module.\n",
              " */\n",
              "(function(scope) {\n",
              "function span(text, styleAttributes = {}) {\n",
              "  const element = document.createElement('span');\n",
              "  element.textContent = text;\n",
              "  for (const key of Object.keys(styleAttributes)) {\n",
              "    element.style[key] = styleAttributes[key];\n",
              "  }\n",
              "  return element;\n",
              "}\n",
              "\n",
              "// Max number of bytes which will be uploaded at a time.\n",
              "const MAX_PAYLOAD_SIZE = 100 * 1024;\n",
              "\n",
              "function _uploadFiles(inputId, outputId) {\n",
              "  const steps = uploadFilesStep(inputId, outputId);\n",
              "  const outputElement = document.getElementById(outputId);\n",
              "  // Cache steps on the outputElement to make it available for the next call\n",
              "  // to uploadFilesContinue from Python.\n",
              "  outputElement.steps = steps;\n",
              "\n",
              "  return _uploadFilesContinue(outputId);\n",
              "}\n",
              "\n",
              "// This is roughly an async generator (not supported in the browser yet),\n",
              "// where there are multiple asynchronous steps and the Python side is going\n",
              "// to poll for completion of each step.\n",
              "// This uses a Promise to block the python side on completion of each step,\n",
              "// then passes the result of the previous step as the input to the next step.\n",
              "function _uploadFilesContinue(outputId) {\n",
              "  const outputElement = document.getElementById(outputId);\n",
              "  const steps = outputElement.steps;\n",
              "\n",
              "  const next = steps.next(outputElement.lastPromiseValue);\n",
              "  return Promise.resolve(next.value.promise).then((value) => {\n",
              "    // Cache the last promise value to make it available to the next\n",
              "    // step of the generator.\n",
              "    outputElement.lastPromiseValue = value;\n",
              "    return next.value.response;\n",
              "  });\n",
              "}\n",
              "\n",
              "/**\n",
              " * Generator function which is called between each async step of the upload\n",
              " * process.\n",
              " * @param {string} inputId Element ID of the input file picker element.\n",
              " * @param {string} outputId Element ID of the output display.\n",
              " * @return {!Iterable<!Object>} Iterable of next steps.\n",
              " */\n",
              "function* uploadFilesStep(inputId, outputId) {\n",
              "  const inputElement = document.getElementById(inputId);\n",
              "  inputElement.disabled = false;\n",
              "\n",
              "  const outputElement = document.getElementById(outputId);\n",
              "  outputElement.innerHTML = '';\n",
              "\n",
              "  const pickedPromise = new Promise((resolve) => {\n",
              "    inputElement.addEventListener('change', (e) => {\n",
              "      resolve(e.target.files);\n",
              "    });\n",
              "  });\n",
              "\n",
              "  const cancel = document.createElement('button');\n",
              "  inputElement.parentElement.appendChild(cancel);\n",
              "  cancel.textContent = 'Cancel upload';\n",
              "  const cancelPromise = new Promise((resolve) => {\n",
              "    cancel.onclick = () => {\n",
              "      resolve(null);\n",
              "    };\n",
              "  });\n",
              "\n",
              "  // Wait for the user to pick the files.\n",
              "  const files = yield {\n",
              "    promise: Promise.race([pickedPromise, cancelPromise]),\n",
              "    response: {\n",
              "      action: 'starting',\n",
              "    }\n",
              "  };\n",
              "\n",
              "  cancel.remove();\n",
              "\n",
              "  // Disable the input element since further picks are not allowed.\n",
              "  inputElement.disabled = true;\n",
              "\n",
              "  if (!files) {\n",
              "    return {\n",
              "      response: {\n",
              "        action: 'complete',\n",
              "      }\n",
              "    };\n",
              "  }\n",
              "\n",
              "  for (const file of files) {\n",
              "    const li = document.createElement('li');\n",
              "    li.append(span(file.name, {fontWeight: 'bold'}));\n",
              "    li.append(span(\n",
              "        `(${file.type || 'n/a'}) - ${file.size} bytes, ` +\n",
              "        `last modified: ${\n",
              "            file.lastModifiedDate ? file.lastModifiedDate.toLocaleDateString() :\n",
              "                                    'n/a'} - `));\n",
              "    const percent = span('0% done');\n",
              "    li.appendChild(percent);\n",
              "\n",
              "    outputElement.appendChild(li);\n",
              "\n",
              "    const fileDataPromise = new Promise((resolve) => {\n",
              "      const reader = new FileReader();\n",
              "      reader.onload = (e) => {\n",
              "        resolve(e.target.result);\n",
              "      };\n",
              "      reader.readAsArrayBuffer(file);\n",
              "    });\n",
              "    // Wait for the data to be ready.\n",
              "    let fileData = yield {\n",
              "      promise: fileDataPromise,\n",
              "      response: {\n",
              "        action: 'continue',\n",
              "      }\n",
              "    };\n",
              "\n",
              "    // Use a chunked sending to avoid message size limits. See b/62115660.\n",
              "    let position = 0;\n",
              "    do {\n",
              "      const length = Math.min(fileData.byteLength - position, MAX_PAYLOAD_SIZE);\n",
              "      const chunk = new Uint8Array(fileData, position, length);\n",
              "      position += length;\n",
              "\n",
              "      const base64 = btoa(String.fromCharCode.apply(null, chunk));\n",
              "      yield {\n",
              "        response: {\n",
              "          action: 'append',\n",
              "          file: file.name,\n",
              "          data: base64,\n",
              "        },\n",
              "      };\n",
              "\n",
              "      let percentDone = fileData.byteLength === 0 ?\n",
              "          100 :\n",
              "          Math.round((position / fileData.byteLength) * 100);\n",
              "      percent.textContent = `${percentDone}% done`;\n",
              "\n",
              "    } while (position < fileData.byteLength);\n",
              "  }\n",
              "\n",
              "  // All done.\n",
              "  yield {\n",
              "    response: {\n",
              "      action: 'complete',\n",
              "    }\n",
              "  };\n",
              "}\n",
              "\n",
              "scope.google = scope.google || {};\n",
              "scope.google.colab = scope.google.colab || {};\n",
              "scope.google.colab._files = {\n",
              "  _uploadFiles,\n",
              "  _uploadFilesContinue,\n",
              "};\n",
              "})(self);\n",
              "</script> "
            ]
          },
          "metadata": {}
        },
        {
          "output_type": "stream",
          "name": "stdout",
          "text": [
            "Saving atomic-habbits-pdf.pdf to atomic-habbits-pdf.pdf\n",
            "Uploaded file: atomic-habbits-pdf.pdf\n"
          ]
        }
      ]
    },
    {
      "cell_type": "markdown",
      "source": [
        "<h2>Parsing Data</h2>\n",
        "\n",
        "1. Converting pdf to csv\n",
        "2. Removing Special Characters\n",
        "3. Adding embeddings\n",
        "\n",
        "\n"
      ],
      "metadata": {
        "id": "wIzmWkNm50WQ"
      }
    },
    {
      "cell_type": "code",
      "source": [
        "!pip install pdfplumber\n",
        "import csv\n",
        "import pdfplumber\n",
        "import re\n",
        "\n",
        "def remove_special_characters(string):\n",
        "    pattern = r'[^a-zA-Z0-9\\s\\.,!?\\n]'  # Pattern to match special characters\n",
        "    return re.sub(pattern, '', string)\n",
        "\n",
        "def convert_pdf_to_csv(pdf_path, csv_path):\n",
        "    with pdfplumber.open(pdf_path) as pdf:\n",
        "        with open(csv_path, 'w', newline='') as csv_file:\n",
        "            writer = csv.writer(csv_file,escapechar=\"\\\\\")\n",
        "            writer.writerow(['Page Number', 'Page Text'])\n",
        "\n",
        "            for page_number, page in enumerate(pdf.pages, start=1):\n",
        "                page_text = remove_special_characters(page.extract_text())\n",
        "                writer.writerow([page_number, page_text])\n",
        "\n",
        "file_name= next(iter(uploaded))\n",
        "\n",
        "# Provide the paths for the PDF and CSV files\n",
        "pdf_file_path = file_name\n",
        "csv_file_path = 'dataset.csv'\n",
        "\n",
        "# Call the function to convert PDF to CSV\n",
        "convert_pdf_to_csv(pdf_file_path, csv_file_path)"
      ],
      "metadata": {
        "id": "r66fxo7u5yx6"
      },
      "execution_count": null,
      "outputs": []
    },
    {
      "cell_type": "markdown",
      "source": [
        "<h3>Visualize the CSV file</h3>"
      ],
      "metadata": {
        "id": "fdThzLyDqkVi"
      }
    },
    {
      "cell_type": "code",
      "source": [
        "import pandas as pd\n",
        "dataset = pd.read_csv('dataset.csv')\n",
        "dataset.head()"
      ],
      "metadata": {
        "id": "_bkfVANPQzMS"
      },
      "execution_count": null,
      "outputs": []
    },
    {
      "cell_type": "markdown",
      "source": [
        "<h2>Getting embeddings for all pages</h2>"
      ],
      "metadata": {
        "id": "UcaY3-J_qsRJ"
      }
    },
    {
      "cell_type": "code",
      "source": [
        "!pip install openai\n",
        "import openai\n",
        "EMBEDDINGS_MODEL = \"text-embedding-ada-002\"\n",
        "openai.api_key = \"YOUR API KEY\""
      ],
      "metadata": {
        "id": "Vu0VYMqnSgS0"
      },
      "execution_count": null,
      "outputs": []
    },
    {
      "cell_type": "code",
      "source": [
        "def get_embeddings(text, model=\"text-embedding-ada-002\"):\n",
        "   text = text.replace(\"\\n\", \" \")\n",
        "   return openai.Embedding.create(input = [text], model=model)['data'][0]['embedding']"
      ],
      "metadata": {
        "id": "5D7KiCq2hpa5"
      },
      "execution_count": null,
      "outputs": []
    },
    {
      "cell_type": "code",
      "source": [
        "import time\n",
        "embeddings = []\n",
        "run_count = 0\n",
        "total = len(dataset)\n",
        "while run_count <= total :\n",
        "    for row in zip(dataset['Page Number'], dataset['Page Text']):\n",
        "        result = get_embeddings(row[1])\n",
        "        embeddings.append(result)\n",
        "        print(f'Progress : {len(embeddings)}/{total}')\n",
        "        run_count += 1\n",
        "        if run_count >= total:\n",
        "          break\n",
        "        if run_count % 50 == 0 :\n",
        "            time.sleep(60) #max requests per minute allowed = 60 so after 50 requests we wait for 60s\n"
      ],
      "metadata": {
        "id": "alD4dS_Diyxy"
      },
      "execution_count": null,
      "outputs": []
    },
    {
      "cell_type": "markdown",
      "source": [
        "<h2>Adding the embeddings to the csv file</h3>\n",
        "\n",
        "We store the embeddings in the csv file so that we dont have to make requests again and again for the embeddings"
      ],
      "metadata": {
        "id": "uJTloCj-rFO7"
      }
    },
    {
      "cell_type": "code",
      "source": [
        "import csv\n",
        "import tempfile\n",
        "import shutil\n",
        "\n",
        "csv_file = 'dataset.csv'\n",
        "temp_file = tempfile.NamedTemporaryFile(mode='w', delete=False)\n",
        "\n",
        "\n",
        "with open(csv_file, 'r') as file_in, open(temp_file.name, 'w', newline='') as file_out:\n",
        "    reader = csv.reader(file_in)\n",
        "    writer = csv.writer(file_out)\n",
        "\n",
        "    header = next(reader)\n",
        "    header.append('Embeddings')\n",
        "    writer.writerow(header)  # Write the modified header to the temporary file\n",
        "\n",
        "    for row in reader:\n",
        "        embedding_value = embeddings.pop(0)  # Get the next embedding value from the list\n",
        "        row.append(embedding_value)  # Append the embedding value to the row\n",
        "        writer.writerow(row)  # Write the modified row to the temporary file\n",
        "\n",
        "shutil.move(temp_file.name, csv_file)\n"
      ],
      "metadata": {
        "colab": {
          "base_uri": "https://localhost:8080/",
          "height": 36
        },
        "id": "uCP5P-ga5s_j",
        "outputId": "26372ba7-0c21-4b8a-cd6a-5ae4268e4155"
      },
      "execution_count": null,
      "outputs": [
        {
          "output_type": "execute_result",
          "data": {
            "text/plain": [
              "'dataset.csv'"
            ],
            "application/vnd.google.colaboratory.intrinsic+json": {
              "type": "string"
            }
          },
          "metadata": {},
          "execution_count": 95
        }
      ]
    },
    {
      "cell_type": "markdown",
      "source": [
        "<h2>Updated CSV file</h2>"
      ],
      "metadata": {
        "id": "GLI0JrWrra-L"
      }
    },
    {
      "cell_type": "code",
      "source": [
        "dataset = pd.read_csv('dataset.csv')\n",
        "dataset.head()"
      ],
      "metadata": {
        "colab": {
          "base_uri": "https://localhost:8080/",
          "height": 206
        },
        "id": "XmyoLvBKKJif",
        "outputId": "e9f7a1de-cc51-4330-a9f4-8d23aae7a5e3"
      },
      "execution_count": null,
      "outputs": [
        {
          "output_type": "execute_result",
          "data": {
            "text/plain": [
              "   Page Number                                          Page Text  \\\n",
              "0            1  Introduction\\nMy Story\\nO\\nN THE FINAL day of ...   \n",
              "1            2  Uh. Um. I stalled. Ten seconds passed.\\nPatti,...   \n",
              "2            3  hospital happy, healthy, and cancer free. And ...   \n",
              "3            4  get me down, but there were more than a few mo...   \n",
              "4            5  room neat and tidy. These improvements were mi...   \n",
              "\n",
              "                                          Embeddings  \n",
              "0  [-0.020569542422890663, -0.0034793440718203783...  \n",
              "1  [-0.01841747760772705, -0.002075987635180354, ...  \n",
              "2  [0.0067032137885689735, -0.003371838014572859,...  \n",
              "3  [-0.0019427494844421744, -0.008356345817446709...  \n",
              "4  [0.0025397222489118576, 0.007604275830090046, ...  "
            ],
            "text/html": [
              "\n",
              "  <div id=\"df-440945cc-98b8-42cb-a92b-7a53cc19e124\">\n",
              "    <div class=\"colab-df-container\">\n",
              "      <div>\n",
              "<style scoped>\n",
              "    .dataframe tbody tr th:only-of-type {\n",
              "        vertical-align: middle;\n",
              "    }\n",
              "\n",
              "    .dataframe tbody tr th {\n",
              "        vertical-align: top;\n",
              "    }\n",
              "\n",
              "    .dataframe thead th {\n",
              "        text-align: right;\n",
              "    }\n",
              "</style>\n",
              "<table border=\"1\" class=\"dataframe\">\n",
              "  <thead>\n",
              "    <tr style=\"text-align: right;\">\n",
              "      <th></th>\n",
              "      <th>Page Number</th>\n",
              "      <th>Page Text</th>\n",
              "      <th>Embeddings</th>\n",
              "    </tr>\n",
              "  </thead>\n",
              "  <tbody>\n",
              "    <tr>\n",
              "      <th>0</th>\n",
              "      <td>1</td>\n",
              "      <td>Introduction\\nMy Story\\nO\\nN THE FINAL day of ...</td>\n",
              "      <td>[-0.020569542422890663, -0.0034793440718203783...</td>\n",
              "    </tr>\n",
              "    <tr>\n",
              "      <th>1</th>\n",
              "      <td>2</td>\n",
              "      <td>Uh. Um. I stalled. Ten seconds passed.\\nPatti,...</td>\n",
              "      <td>[-0.01841747760772705, -0.002075987635180354, ...</td>\n",
              "    </tr>\n",
              "    <tr>\n",
              "      <th>2</th>\n",
              "      <td>3</td>\n",
              "      <td>hospital happy, healthy, and cancer free. And ...</td>\n",
              "      <td>[0.0067032137885689735, -0.003371838014572859,...</td>\n",
              "    </tr>\n",
              "    <tr>\n",
              "      <th>3</th>\n",
              "      <td>4</td>\n",
              "      <td>get me down, but there were more than a few mo...</td>\n",
              "      <td>[-0.0019427494844421744, -0.008356345817446709...</td>\n",
              "    </tr>\n",
              "    <tr>\n",
              "      <th>4</th>\n",
              "      <td>5</td>\n",
              "      <td>room neat and tidy. These improvements were mi...</td>\n",
              "      <td>[0.0025397222489118576, 0.007604275830090046, ...</td>\n",
              "    </tr>\n",
              "  </tbody>\n",
              "</table>\n",
              "</div>\n",
              "      <button class=\"colab-df-convert\" onclick=\"convertToInteractive('df-440945cc-98b8-42cb-a92b-7a53cc19e124')\"\n",
              "              title=\"Convert this dataframe to an interactive table.\"\n",
              "              style=\"display:none;\">\n",
              "        \n",
              "  <svg xmlns=\"http://www.w3.org/2000/svg\" height=\"24px\"viewBox=\"0 0 24 24\"\n",
              "       width=\"24px\">\n",
              "    <path d=\"M0 0h24v24H0V0z\" fill=\"none\"/>\n",
              "    <path d=\"M18.56 5.44l.94 2.06.94-2.06 2.06-.94-2.06-.94-.94-2.06-.94 2.06-2.06.94zm-11 1L8.5 8.5l.94-2.06 2.06-.94-2.06-.94L8.5 2.5l-.94 2.06-2.06.94zm10 10l.94 2.06.94-2.06 2.06-.94-2.06-.94-.94-2.06-.94 2.06-2.06.94z\"/><path d=\"M17.41 7.96l-1.37-1.37c-.4-.4-.92-.59-1.43-.59-.52 0-1.04.2-1.43.59L10.3 9.45l-7.72 7.72c-.78.78-.78 2.05 0 2.83L4 21.41c.39.39.9.59 1.41.59.51 0 1.02-.2 1.41-.59l7.78-7.78 2.81-2.81c.8-.78.8-2.07 0-2.86zM5.41 20L4 18.59l7.72-7.72 1.47 1.35L5.41 20z\"/>\n",
              "  </svg>\n",
              "      </button>\n",
              "      \n",
              "  <style>\n",
              "    .colab-df-container {\n",
              "      display:flex;\n",
              "      flex-wrap:wrap;\n",
              "      gap: 12px;\n",
              "    }\n",
              "\n",
              "    .colab-df-convert {\n",
              "      background-color: #E8F0FE;\n",
              "      border: none;\n",
              "      border-radius: 50%;\n",
              "      cursor: pointer;\n",
              "      display: none;\n",
              "      fill: #1967D2;\n",
              "      height: 32px;\n",
              "      padding: 0 0 0 0;\n",
              "      width: 32px;\n",
              "    }\n",
              "\n",
              "    .colab-df-convert:hover {\n",
              "      background-color: #E2EBFA;\n",
              "      box-shadow: 0px 1px 2px rgba(60, 64, 67, 0.3), 0px 1px 3px 1px rgba(60, 64, 67, 0.15);\n",
              "      fill: #174EA6;\n",
              "    }\n",
              "\n",
              "    [theme=dark] .colab-df-convert {\n",
              "      background-color: #3B4455;\n",
              "      fill: #D2E3FC;\n",
              "    }\n",
              "\n",
              "    [theme=dark] .colab-df-convert:hover {\n",
              "      background-color: #434B5C;\n",
              "      box-shadow: 0px 1px 3px 1px rgba(0, 0, 0, 0.15);\n",
              "      filter: drop-shadow(0px 1px 2px rgba(0, 0, 0, 0.3));\n",
              "      fill: #FFFFFF;\n",
              "    }\n",
              "  </style>\n",
              "\n",
              "      <script>\n",
              "        const buttonEl =\n",
              "          document.querySelector('#df-440945cc-98b8-42cb-a92b-7a53cc19e124 button.colab-df-convert');\n",
              "        buttonEl.style.display =\n",
              "          google.colab.kernel.accessAllowed ? 'block' : 'none';\n",
              "\n",
              "        async function convertToInteractive(key) {\n",
              "          const element = document.querySelector('#df-440945cc-98b8-42cb-a92b-7a53cc19e124');\n",
              "          const dataTable =\n",
              "            await google.colab.kernel.invokeFunction('convertToInteractive',\n",
              "                                                     [key], {});\n",
              "          if (!dataTable) return;\n",
              "\n",
              "          const docLinkHtml = 'Like what you see? Visit the ' +\n",
              "            '<a target=\"_blank\" href=https://colab.research.google.com/notebooks/data_table.ipynb>data table notebook</a>'\n",
              "            + ' to learn more about interactive tables.';\n",
              "          element.innerHTML = '';\n",
              "          dataTable['output_type'] = 'display_data';\n",
              "          await google.colab.output.renderOutput(dataTable, element);\n",
              "          const docLink = document.createElement('div');\n",
              "          docLink.innerHTML = docLinkHtml;\n",
              "          element.appendChild(docLink);\n",
              "        }\n",
              "      </script>\n",
              "    </div>\n",
              "  </div>\n",
              "  "
            ]
          },
          "metadata": {},
          "execution_count": 99
        }
      ]
    },
    {
      "cell_type": "markdown",
      "source": [
        "<h1>Setting up functions\n",
        "</h1>"
      ],
      "metadata": {
        "id": "SNRRSkzELFH9"
      }
    },
    {
      "cell_type": "code",
      "source": [
        "import numpy as np\n",
        "from collections import namedtuple\n",
        "import ast\n",
        "\n",
        "def parse_dataset():\n",
        "   #returns a namedtuple with data and embeddings#\n",
        "   page_number_list = dataset['Page Number'].tolist()\n",
        "   page_text_list = dataset['Page Text'].tolist()\n",
        "   page_embeddings_list = dataset['Embeddings'].tolist()\n",
        "   for idx, element in enumerate(page_embeddings_list):\n",
        "    page_embeddings_list[idx] = ast.literal_eval(element)\n",
        "    for id , item in enumerate(page_embeddings_list[idx]):\n",
        "      page_embeddings_list[idx][id] = float(item)\n",
        "\n",
        "   page_embeddings_list = np.array(page_embeddings_list)\n",
        "   top_k = min(3, len(page_text_list))\n",
        "   return namedtuple('dataset',\n",
        "    ['page_text_list',\n",
        "    'page_embeddings_list',\n",
        "    'page_numbers_list',\n",
        "    'top_k'])(\n",
        "        page_text_list,\n",
        "        page_embeddings_list,\n",
        "        page_number_list,\n",
        "        top_k)\n",
        "\n",
        "def cosine_distance(x,y):\n",
        "      return np.dot(np.array(x), np.array(y))\n",
        "\n",
        "def prepare_contexts(dataset):\n",
        "    contexts = {}\n",
        "    for page_text, page_number, embedding in zip(\n",
        "        dataset.page_text_list,\n",
        "        dataset.page_numbers_list,\n",
        "        dataset.page_embeddings_list\n",
        "    ):\n",
        "        contexts[(page_text, page_number)] = embedding\n",
        "    return contexts\n",
        "\n",
        "def order_document_sections_by_query_similarity(query_embedding, context):\n",
        "  similar = sorted([(cosine_distance(query_embedding, doc_embedding), doc_index) for doc_index, doc_embedding in context.items()], reverse=True)\n",
        "  return similar\n",
        "\n",
        "\n",
        "def get_semantic_suggestions(prompt):\n",
        "   Dataset = parse_dataset()\n",
        "   query_embedding = np.array(get_embeddings(prompt), dtype=float)\n",
        "   relevant_sections = order_document_sections_by_query_similarity(query_embedding, prepare_contexts(dataset=Dataset))\n",
        "   top_three = relevant_sections[:Dataset.top_k]\n",
        "   final = []\n",
        "   for _, (page_text, page_number) in top_three:\n",
        "    final.append({\n",
        "                  'page_text': page_text,\n",
        "                  'page_number': page_number\n",
        "                  })\n",
        "\n",
        "   return final\n",
        "\n"
      ],
      "metadata": {
        "id": "PTY0l_MUKXDn"
      },
      "execution_count": null,
      "outputs": []
    },
    {
      "cell_type": "markdown",
      "source": [
        "<h1>Prompt Engineering</h1>"
      ],
      "metadata": {
        "id": "cbPwwsCPeRDV"
      }
    },
    {
      "cell_type": "code",
      "source": [
        "CHAT_COMPLETIONS_MODEL = \"gpt-3.5-turbo-0301\"\n",
        "\n",
        "def complete_chat(prompt_obj):\n",
        "  reply = openai.ChatCompletion.create(\n",
        "  messages=[\n",
        "  {\n",
        "  \"role\": \"user\",\n",
        "  \"content\": prompt_obj['user']\n",
        "  },\n",
        "  {\n",
        "  \"role\": \"system\",\n",
        "  \"content\": prompt_obj['system']\n",
        "  }\n",
        "  ],\n",
        "  model=CHAT_COMPLETIONS_MODEL,\n",
        "  temperature=0.8\n",
        "  )\n",
        "  return reply\n"
      ],
      "metadata": {
        "id": "Gr2jKKJ8eQo2"
      },
      "execution_count": null,
      "outputs": []
    },
    {
      "cell_type": "code",
      "source": [
        "import sys\n",
        "SYSTEM_DEFAULT_PROMPT= \"You are a person’s personal therapist. The person is going to ask you different questions about life and how to grow and improve. You will answer the question referencing the context provided to you below in the context section. Stick to the context and have a positive attitude. If the user mentions suicide or other types of self-haram reply with: Please contact suicide prevention helpline: 111-222-333. Context: *insert text* \"\n",
        "\n",
        "user_prompt = input(\"Ask your personal Therapist anything: \")\n",
        "string= \"\"\n",
        "relevent_pages = get_semantic_suggestions(user_prompt)\n",
        "for pages in relevent_pages:\n",
        "  string = string+ f\"Page Number: {pages['page_number']}\\n Page Info: {pages['page_text'].strip()}\\n\"\n",
        "updated_system_prompt = SYSTEM_DEFAULT_PROMPT.replace(\"*insert text*\", string)\n",
        "\n",
        "prompt_obj = {\n",
        "    'user': user_prompt,\n",
        "    'system': updated_system_prompt\n",
        "}\n",
        "reply = complete_chat(prompt_obj)\n",
        "print(\"Therapist: \", reply['choices'][0]['message']['content'])\n",
        "\n"
      ],
      "metadata": {
        "colab": {
          "base_uri": "https://localhost:8080/"
        },
        "id": "ZH2N8WfyhVOB",
        "outputId": "0afd6753-3340-4614-d55a-7690f7f89eb5"
      },
      "execution_count": null,
      "outputs": [
        {
          "output_type": "stream",
          "name": "stdout",
          "text": [
            "Ask your personal Therapist anything: How do i achieve my goals?\n",
            "Therapist:  To achieve your goals, it's important to focus on developing systems that lead to those goals, rather than just setting specific goals. Goals are about the results you want to achieve, while systems are about the processes that lead to those results. By focusing on developing and sticking to effective systems, you can continuously improve and make progress towards your goals. Additionally, a systems-first mentality can help you find satisfaction and happiness in the process, rather than just in achieving the end result. Remember that goals are just a direction, and it's the systems you develop that will help you achieve them in the long-term.\n"
          ]
        }
      ]
    },
    {
      "cell_type": "markdown",
      "source": [
        "<h2>Save the CSV to your drive</h2>"
      ],
      "metadata": {
        "id": "lvFMjnQytVvl"
      }
    },
    {
      "cell_type": "code",
      "source": [
        "import os\n",
        "drive_folder_path = '/content/drive/MyDrive/therapist-bot'\n",
        "drive_folder_created= False\n",
        "if not os.path.exists(drive_folder_path):\n",
        "    os.makedirs(drive_folder_path)\n",
        "    drive_folder_created=True\n",
        "shutil.move('dataset.csv', drive_folder_path + '/dataset.csv')\n",
        "if drive_folder_created:\n",
        "    print(\"Folder therapist-bot created in Google Drive.\")\n",
        "print(\"CSV file saved in Google Drive folder 'therapist-bot'.\")"
      ],
      "metadata": {
        "colab": {
          "base_uri": "https://localhost:8080/"
        },
        "id": "SKwvSY6xr1A0",
        "outputId": "8a5d140b-8205-4b08-ef3c-38076e3004c1"
      },
      "execution_count": null,
      "outputs": [
        {
          "output_type": "stream",
          "name": "stdout",
          "text": [
            "CSV file saved in Google Drive folder 'therapist-bot'.\n"
          ]
        }
      ]
    }
  ]
}